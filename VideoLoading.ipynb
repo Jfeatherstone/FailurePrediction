{
 "cells": [
  {
   "cell_type": "markdown",
   "metadata": {},
   "source": [
    "### Video Loading Tests\n",
    "\n",
    "This file is for testing my methods for loading in the video data and manipulating it so that is ready for analysis/training"
   ]
  },
  {
   "cell_type": "code",
   "execution_count": 4,
   "metadata": {},
   "outputs": [],
   "source": [
    "import numpy as np\n",
    "import matplotlib.pyplot as plt\n",
    "import cv2 # OpenCV\n",
    "import os\n",
    "\n",
    "import Settings # My global settings\n",
    "import Preprocessing # Work with the raw data"
   ]
  },
  {
   "cell_type": "code",
   "execution_count": 5,
   "metadata": {},
   "outputs": [
    {
     "name": "stdout",
     "output_type": "stream",
     "text": [
      "Searching for data in location specified by Settings.DATA_LOCATION:\n",
      "/run/media/jack/Seagate Portable Drive/Research/geogran2/\n",
      "...\n",
      "ERROR: Path /run/media/jack/Seagate Portable Drive/Research/geogran2/ does not exist\n"
     ]
    },
    {
     "data": {
      "text/plain": [
       "False"
      ]
     },
     "execution_count": 5,
     "metadata": {},
     "output_type": "execute_result"
    }
   ],
   "source": [
    "Preprocessing.testData()"
   ]
  },
  {
   "cell_type": "code",
   "execution_count": 3,
   "metadata": {},
   "outputs": [],
   "source": [
    "dataFiles = Preprocessing.listDataFiles(excludeDataWithoutMovies=False)\n",
    "matFile = Preprocessing.loadMatFile(dataFiles[0])\n",
    "#video = Preprocessing.loadVideo([dataFiles[0], dataFiles[7], dataFiles[18]], ignoreInvalidData=True)\n",
    "\n",
    "#propertyFile = Preprocessing.loadRunData([dataFiles[20], dataFiles[1]])\n",
    "#print(matFile[\"t\"][:,0])\n",
    "#print(matFile)\n",
    "#print(propertyFile)"
   ]
  },
  {
   "cell_type": "code",
   "execution_count": 6,
   "metadata": {},
   "outputs": [
    {
     "name": "stdout",
     "output_type": "stream",
     "text": [
      "[None, <VideoCapture 0x7f23afbe8df0>, <VideoCapture 0x7f23afbe8eb0>]\n"
     ]
    }
   ],
   "source": [
    "print(video)"
   ]
  },
  {
   "cell_type": "code",
   "execution_count": 31,
   "metadata": {},
   "outputs": [
    {
     "name": "stdout",
     "output_type": "stream",
     "text": [
      "{'name': '070525d', 'velocity': '0.05', 'shearspringname': 'B', 'normalspringname': 'C2+2', 'numpart': 'N', 'boundary': '', 'fps': '4', 'pixpermm': '1.80', 'type': \"{'GR'}\", 'goodarea': array([ 79, 746, 100, 497]), 'centerline': '272', 'sync': '2.5', 'starttime': '5', 'goodtime': '120', 'endtime': '413', 'maskout': '[10:30]'}\n"
     ]
    }
   ],
   "source": [
    "keys = []\n",
    "values = []\n",
    "with open('070525d.rundata') as file:\n",
    "    for line in file.read().split('\\n'):\n",
    "        try:\n",
    "            newKey, newValue = line.split('=')\n",
    "            keys.append(newKey.strip())\n",
    "            values.append(newValue.strip())\n",
    "        except:\n",
    "            pass # Ignore whitespace lines\n",
    "    \n",
    "runProperties = dict(zip(keys, values))\n",
    "\n",
    "# Convert the good area to be a proper array\n",
    "runProperties[\"goodarea\"] = np.array([i.strip() for i in runProperties[\"goodarea\"][1:-2].split()], dtype='int')\n",
    "\n",
    "print(runProperties)"
   ]
  },
  {
   "cell_type": "code",
   "execution_count": 48,
   "metadata": {},
   "outputs": [],
   "source": [
    "video = cv2.VideoCapture('070525d.bw.avi')\n",
    "\n",
    "if not video.isOpened():\n",
    "    print('Error opening file')\n",
    "\n",
    "    \n",
    "ret, frame = video.read()\n",
    "grayscaleFrame = frame[:,:,0]\n",
    "\n",
    "reg = runProperties[\"goodarea\"]\n",
    "\n",
    "cv2.imshow('Frame', grayscaleFrame[reg[0]:reg[1], reg[2]:reg[3]])\n",
    "cv2.imshow('Frame', grayscaleFrame)\n",
    "cv2.waitKey(50000)\n",
    "\n",
    "# while video.isOpened():\n",
    "#     ret, frame = video.read()\n",
    "\n",
    "#     if ret:\n",
    "#         cv2.imshow('Frame', frame)\n",
    "#         cv2.waitKey(25)\n",
    "        \n",
    "#     else:\n",
    "#         break\n",
    "        \n",
    "video.release()\n",
    "\n",
    "cv2.destroyAllWindows()"
   ]
  },
  {
   "cell_type": "code",
   "execution_count": null,
   "metadata": {},
   "outputs": [],
   "source": []
  }
 ],
 "metadata": {
  "kernelspec": {
   "display_name": "Python 3",
   "language": "python",
   "name": "python3"
  },
  "language_info": {
   "codemirror_mode": {
    "name": "ipython",
    "version": 3
   },
   "file_extension": ".py",
   "mimetype": "text/x-python",
   "name": "python",
   "nbconvert_exporter": "python",
   "pygments_lexer": "ipython3",
   "version": "3.8.5"
  }
 },
 "nbformat": 4,
 "nbformat_minor": 4
}
