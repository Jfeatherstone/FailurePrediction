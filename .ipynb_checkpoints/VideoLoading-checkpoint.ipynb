{
 "cells": [
  {
   "cell_type": "markdown",
   "metadata": {},
   "source": [
    "### Video Loading Tests\n",
    "\n",
    "This file is for testing my methods for loading in the video data and manipulating it so that is ready for analysis/training"
   ]
  },
  {
   "cell_type": "code",
   "execution_count": 1,
   "metadata": {},
   "outputs": [],
   "source": [
    "import numpy as np\n",
    "import matplotlib.pyplot as plt\n",
    "import cv2 # OpenCV"
   ]
  },
  {
   "cell_type": "code",
   "execution_count": 31,
   "metadata": {},
   "outputs": [
    {
     "name": "stdout",
     "output_type": "stream",
     "text": [
      "{'name': '070525d', 'velocity': '0.05', 'shearspringname': 'B', 'normalspringname': 'C2+2', 'numpart': 'N', 'boundary': '', 'fps': '4', 'pixpermm': '1.80', 'type': \"{'GR'}\", 'goodarea': array([ 79, 746, 100, 497]), 'centerline': '272', 'sync': '2.5', 'starttime': '5', 'goodtime': '120', 'endtime': '413', 'maskout': '[10:30]'}\n"
     ]
    }
   ],
   "source": [
    "keys = []\n",
    "values = []\n",
    "with open('070525d.rundata') as file:\n",
    "    for line in file.read().split('\\n'):\n",
    "        try:\n",
    "            newKey, newValue = line.split('=')\n",
    "            keys.append(newKey.strip())\n",
    "            values.append(newValue.strip())\n",
    "        except:\n",
    "            pass # Ignore whitespace lines\n",
    "    \n",
    "runProperties = dict(zip(keys, values))\n",
    "\n",
    "# Convert the good area to be a proper array\n",
    "runProperties[\"goodarea\"] = np.array([i.strip() for i in runProperties[\"goodarea\"][1:-2].split()], dtype='int')\n",
    "\n",
    "print(runProperties)"
   ]
  },
  {
   "cell_type": "code",
   "execution_count": 48,
   "metadata": {},
   "outputs": [],
   "source": [
    "video = cv2.VideoCapture('070525d.bw.avi')\n",
    "\n",
    "if not video.isOpened():\n",
    "    print('Error opening file')\n",
    "\n",
    "    \n",
    "ret, frame = video.read()\n",
    "grayscaleFrame = frame[:,:,0]\n",
    "\n",
    "reg = runProperties[\"goodarea\"]\n",
    "\n",
    "cv2.imshow('Frame', grayscaleFrame[reg[0]:reg[1], reg[2]:reg[3]])\n",
    "cv2.imshow('Frame', grayscaleFrame)\n",
    "cv2.waitKey(50000)\n",
    "\n",
    "# while video.isOpened():\n",
    "#     ret, frame = video.read()\n",
    "\n",
    "#     if ret:\n",
    "#         cv2.imshow('Frame', frame)\n",
    "#         cv2.waitKey(25)\n",
    "        \n",
    "#     else:\n",
    "#         break\n",
    "        \n",
    "video.release()\n",
    "\n",
    "cv2.destroyAllWindows()"
   ]
  },
  {
   "cell_type": "code",
   "execution_count": null,
   "metadata": {},
   "outputs": [],
   "source": []
  }
 ],
 "metadata": {
  "kernelspec": {
   "display_name": "Python 3",
   "language": "python",
   "name": "python3"
  },
  "language_info": {
   "codemirror_mode": {
    "name": "ipython",
    "version": 3
   },
   "file_extension": ".py",
   "mimetype": "text/x-python",
   "name": "python",
   "nbconvert_exporter": "python",
   "pygments_lexer": "ipython3",
   "version": "3.8.5"
  }
 },
 "nbformat": 4,
 "nbformat_minor": 4
}
