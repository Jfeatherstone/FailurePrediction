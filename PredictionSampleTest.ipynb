{
 "cells": [
  {
   "cell_type": "code",
   "execution_count": 1,
   "metadata": {},
   "outputs": [],
   "source": [
    "import numpy as np\n",
    "import matplotlib.pyplot as plt\n",
    "\n",
    "from slider import Preprocessing, Analyze, ImageAnalysis\n",
    "from slider import PredictionSample"
   ]
  },
  {
   "cell_type": "code",
   "execution_count": 2,
   "metadata": {},
   "outputs": [
    {
     "name": "stdout",
     "output_type": "stream",
     "text": [
      "Reading tracking data from cache: Cache/Tracking/shape0_01.pickle\n"
     ]
    }
   ],
   "source": [
    "photoelasticImageData, whiteLightImageData, forceData, trackingData, metadata = Preprocessing.loadSliderData(loadCachedData=True, saveCachedData=True)\n",
    "peakIndices = Preprocessing.identifyPeaks(forceData)\n",
    "timeArr = [forceData[0][:,1]]"
   ]
  },
  {
   "cell_type": "code",
   "execution_count": 3,
   "metadata": {},
   "outputs": [
    {
     "name": "stdout",
     "output_type": "stream",
     "text": [
      "Reading analysis result from cache: Cache/Analysis/shape_01_averageBrightness_21997.pickle\n",
      "Reading analysis result from cache: Cache/Analysis/shape_01_varianceBrightness_21997.pickle\n"
     ]
    }
   ],
   "source": [
    "metrics = [ImageAnalysis.varianceBrightness, ImageAnalysis.averageBrightness]\n",
    "\n",
    "metricList = Analyze.analyze(photoelasticImageData, trackingData, metrics, metadata)"
   ]
  },
  {
   "cell_type": "code",
   "execution_count": 8,
   "metadata": {},
   "outputs": [],
   "source": [
    "inputArr, outputArr = PredictionSample.predictionSample(metricList, peakIndices, timeArr=timeArr, desiredOutcome=None, downsampleFactor=6)"
   ]
  },
  {
   "cell_type": "code",
   "execution_count": 9,
   "metadata": {},
   "outputs": [
    {
     "name": "stdout",
     "output_type": "stream",
     "text": [
      "[1. 1. 1. 0. 1. 0. 1. 0. 1. 1. 1. 0. 1. 0. 0. 0. 1. 0. 1. 1. 1. 1. 1. 0.\n",
      " 0. 1. 0. 0. 0. 0. 1. 0. 0. 0. 1. 0. 1. 0. 0. 0. 1. 0. 1. 1. 1. 1. 1. 1.\n",
      " 1. 0. 1. 0. 1. 0. 0. 1. 1. 0. 0. 0. 0. 0.]\n"
     ]
    },
    {
     "data": {
      "image/png": "[encoded data removed]",
      "text/plain": [
       "<Figure size 432x288 with 1 Axes>"
      ]
     },
     "metadata": {
      "needs_background": "light"
     },
     "output_type": "display_data"
    }
   ],
   "source": [
    "plt.plot(inputArr[0,-1,:], inputArr[0,1,:])\n",
    "print(outputArr)"
   ]
  },
  {
   "cell_type": "code",
   "execution_count": 9,
   "metadata": {},
   "outputs": [
    {
     "name": "stdout",
     "output_type": "stream",
     "text": [
      "[  1.3966  10.367   21.22    26.067   32.189   41.959   43.741   50.163\n",
      "  54.569   58.7     64.298   73.501   80.031   88.377   91.55    98.821\n",
      " 108.64   112.89   118.17   123.12   127.81   132.22   135.76   141.74\n",
      " 149.32   154.24   158.14   161.94   168.66   171.19   176.56  ]\n"
     ]
    }
   ],
   "source": [
    "print(timeArr[0][peakIndices[0]])"
   ]
  },
  {
   "cell_type": "code",
   "execution_count": null,
   "metadata": {},
   "outputs": [],
   "source": []
  }
 ],
 "metadata": {
  "kernelspec": {
   "display_name": "Python 3",
   "language": "python",
   "name": "python3"
  },
  "language_info": {
   "codemirror_mode": {
    "name": "ipython",
    "version": 3
   },
   "file_extension": ".py",
   "mimetype": "text/x-python",
   "name": "python",
   "nbconvert_exporter": "python",
   "pygments_lexer": "ipython3",
   "version": "3.9.2"
  }
 },
 "nbformat": 4,
 "nbformat_minor": 4
}
